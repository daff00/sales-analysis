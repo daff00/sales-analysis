{
 "cells": [
  {
   "cell_type": "markdown",
   "id": "2fe9ef34",
   "metadata": {},
   "source": [
    "# E-commerce Sales Analysis & Customer Segmentation\n",
    "---\n",
    "## Project Overview and Goal\n",
    "The goal of this project is to analyze the sales data of an online retail company to identify trends, understand customer behavior, and provide actionable insights to improve sales and marketing strategies. You will act as a data analyst for a fictional e-commerce store called \"Trendify.\"\n",
    "\n",
    "## Business Context\n",
    "Trendify is an online retailer that sells a variety of products. The company has been collecting sales data for the past year and wants to leverage this data to make more informed business decisions. They are particularly interested in understanding which products are selling well, who their most valuable customers are, and how they can optimize their marketing efforts.\n",
    "\n",
    "## Key Question\n",
    "1. What are the overall sales trends on a monthly and quarterly basis?\n",
    "2. Which are the top 10 best-selling products by revenue and quantity?\n",
    "3. Who are the top 10 most valuable customers?\n",
    "4. What is the geographical distribution of sales?\n",
    "5. How can we segment our customers based on their purchasing behavior?\n",
    "\n",
    "## Dataset\n",
    "\"Online Retail\" dataset from the UCI Machine Learning Repository\n",
    "\n",
    "---\n",
    "#### Import Library"
   ]
  },
  {
   "cell_type": "code",
   "execution_count": 1,
   "id": "0b0f6b2e",
   "metadata": {},
   "outputs": [],
   "source": [
    "import pandas as pd\n",
    "import numpy as np\n",
    "import datetime as dt\n",
    "\n",
    "import matplotlib.pyplot as plt\n",
    "import seaborn as sns"
   ]
  },
  {
   "cell_type": "markdown",
   "id": "3d4bd4cb",
   "metadata": {},
   "source": [
    "#### Read the dataset"
   ]
  },
  {
   "cell_type": "code",
   "execution_count": 2,
   "id": "50579f67",
   "metadata": {},
   "outputs": [
    {
     "data": {
      "application/vnd.microsoft.datawrangler.viewer.v0+json": {
       "columns": [
        {
         "name": "index",
         "rawType": "int64",
         "type": "integer"
        },
        {
         "name": "Invoice",
         "rawType": "object",
         "type": "string"
        },
        {
         "name": "StockCode",
         "rawType": "object",
         "type": "string"
        },
        {
         "name": "Description",
         "rawType": "object",
         "type": "string"
        },
        {
         "name": "Quantity",
         "rawType": "int64",
         "type": "integer"
        },
        {
         "name": "InvoiceDate",
         "rawType": "datetime64[s]",
         "type": "unknown"
        },
        {
         "name": "Price",
         "rawType": "float64",
         "type": "float"
        },
        {
         "name": "Customer ID",
         "rawType": "float64",
         "type": "float"
        },
        {
         "name": "Country",
         "rawType": "object",
         "type": "string"
        }
       ],
       "ref": "393e1f85-0c59-4723-9ece-dd18bf8c3091",
       "rows": [
        [
         "0",
         "489434",
         "85048",
         "15CM CHRISTMAS GLASS BALL 20 LIGHTS",
         "12",
         "2009-12-01 07:45:00",
         "6.95",
         "13085.0",
         "United Kingdom"
        ],
        [
         "1",
         "489434",
         "79323P",
         "PINK CHERRY LIGHTS",
         "12",
         "2009-12-01 07:45:00",
         "6.75",
         "13085.0",
         "United Kingdom"
        ],
        [
         "2",
         "489434",
         "79323W",
         " WHITE CHERRY LIGHTS",
         "12",
         "2009-12-01 07:45:00",
         "6.75",
         "13085.0",
         "United Kingdom"
        ],
        [
         "3",
         "489434",
         "22041",
         "RECORD FRAME 7\" SINGLE SIZE ",
         "48",
         "2009-12-01 07:45:00",
         "2.1",
         "13085.0",
         "United Kingdom"
        ],
        [
         "4",
         "489434",
         "21232",
         "STRAWBERRY CERAMIC TRINKET BOX",
         "24",
         "2009-12-01 07:45:00",
         "1.25",
         "13085.0",
         "United Kingdom"
        ]
       ],
       "shape": {
        "columns": 8,
        "rows": 5
       }
      },
      "text/html": [
       "<div>\n",
       "<style scoped>\n",
       "    .dataframe tbody tr th:only-of-type {\n",
       "        vertical-align: middle;\n",
       "    }\n",
       "\n",
       "    .dataframe tbody tr th {\n",
       "        vertical-align: top;\n",
       "    }\n",
       "\n",
       "    .dataframe thead th {\n",
       "        text-align: right;\n",
       "    }\n",
       "</style>\n",
       "<table border=\"1\" class=\"dataframe\">\n",
       "  <thead>\n",
       "    <tr style=\"text-align: right;\">\n",
       "      <th></th>\n",
       "      <th>Invoice</th>\n",
       "      <th>StockCode</th>\n",
       "      <th>Description</th>\n",
       "      <th>Quantity</th>\n",
       "      <th>InvoiceDate</th>\n",
       "      <th>Price</th>\n",
       "      <th>Customer ID</th>\n",
       "      <th>Country</th>\n",
       "    </tr>\n",
       "  </thead>\n",
       "  <tbody>\n",
       "    <tr>\n",
       "      <th>0</th>\n",
       "      <td>489434</td>\n",
       "      <td>85048</td>\n",
       "      <td>15CM CHRISTMAS GLASS BALL 20 LIGHTS</td>\n",
       "      <td>12</td>\n",
       "      <td>2009-12-01 07:45:00</td>\n",
       "      <td>6.95</td>\n",
       "      <td>13085.0</td>\n",
       "      <td>United Kingdom</td>\n",
       "    </tr>\n",
       "    <tr>\n",
       "      <th>1</th>\n",
       "      <td>489434</td>\n",
       "      <td>79323P</td>\n",
       "      <td>PINK CHERRY LIGHTS</td>\n",
       "      <td>12</td>\n",
       "      <td>2009-12-01 07:45:00</td>\n",
       "      <td>6.75</td>\n",
       "      <td>13085.0</td>\n",
       "      <td>United Kingdom</td>\n",
       "    </tr>\n",
       "    <tr>\n",
       "      <th>2</th>\n",
       "      <td>489434</td>\n",
       "      <td>79323W</td>\n",
       "      <td>WHITE CHERRY LIGHTS</td>\n",
       "      <td>12</td>\n",
       "      <td>2009-12-01 07:45:00</td>\n",
       "      <td>6.75</td>\n",
       "      <td>13085.0</td>\n",
       "      <td>United Kingdom</td>\n",
       "    </tr>\n",
       "    <tr>\n",
       "      <th>3</th>\n",
       "      <td>489434</td>\n",
       "      <td>22041</td>\n",
       "      <td>RECORD FRAME 7\" SINGLE SIZE</td>\n",
       "      <td>48</td>\n",
       "      <td>2009-12-01 07:45:00</td>\n",
       "      <td>2.10</td>\n",
       "      <td>13085.0</td>\n",
       "      <td>United Kingdom</td>\n",
       "    </tr>\n",
       "    <tr>\n",
       "      <th>4</th>\n",
       "      <td>489434</td>\n",
       "      <td>21232</td>\n",
       "      <td>STRAWBERRY CERAMIC TRINKET BOX</td>\n",
       "      <td>24</td>\n",
       "      <td>2009-12-01 07:45:00</td>\n",
       "      <td>1.25</td>\n",
       "      <td>13085.0</td>\n",
       "      <td>United Kingdom</td>\n",
       "    </tr>\n",
       "  </tbody>\n",
       "</table>\n",
       "</div>"
      ],
      "text/plain": [
       "  Invoice StockCode                          Description  Quantity  \\\n",
       "0  489434     85048  15CM CHRISTMAS GLASS BALL 20 LIGHTS        12   \n",
       "1  489434    79323P                   PINK CHERRY LIGHTS        12   \n",
       "2  489434    79323W                  WHITE CHERRY LIGHTS        12   \n",
       "3  489434     22041         RECORD FRAME 7\" SINGLE SIZE         48   \n",
       "4  489434     21232       STRAWBERRY CERAMIC TRINKET BOX        24   \n",
       "\n",
       "          InvoiceDate  Price  Customer ID         Country  \n",
       "0 2009-12-01 07:45:00   6.95      13085.0  United Kingdom  \n",
       "1 2009-12-01 07:45:00   6.75      13085.0  United Kingdom  \n",
       "2 2009-12-01 07:45:00   6.75      13085.0  United Kingdom  \n",
       "3 2009-12-01 07:45:00   2.10      13085.0  United Kingdom  \n",
       "4 2009-12-01 07:45:00   1.25      13085.0  United Kingdom  "
      ]
     },
     "execution_count": 2,
     "metadata": {},
     "output_type": "execute_result"
    }
   ],
   "source": [
    "sales = pd.read_csv(\"online_retail_II.csv\", engine='pyarrow')\n",
    "\n",
    "# See the top 5 data\n",
    "sales.head()"
   ]
  },
  {
   "cell_type": "code",
   "execution_count": 3,
   "id": "db224f77",
   "metadata": {},
   "outputs": [
    {
     "name": "stdout",
     "output_type": "stream",
     "text": [
      "<class 'pandas.core.frame.DataFrame'>\n",
      "RangeIndex: 1067371 entries, 0 to 1067370\n",
      "Data columns (total 8 columns):\n",
      " #   Column       Non-Null Count    Dtype        \n",
      "---  ------       --------------    -----        \n",
      " 0   Invoice      1067371 non-null  object       \n",
      " 1   StockCode    1067371 non-null  object       \n",
      " 2   Description  1062989 non-null  object       \n",
      " 3   Quantity     1067371 non-null  int64        \n",
      " 4   InvoiceDate  1067371 non-null  datetime64[s]\n",
      " 5   Price        1067371 non-null  float64      \n",
      " 6   Customer ID  824364 non-null   float64      \n",
      " 7   Country      1067371 non-null  object       \n",
      "dtypes: datetime64[s](1), float64(2), int64(1), object(4)\n",
      "memory usage: 65.1+ MB\n",
      "None\n",
      "\n",
      "Missing values on dataset:\n",
      " Invoice             0\n",
      "StockCode           0\n",
      "Description      4382\n",
      "Quantity            0\n",
      "InvoiceDate         0\n",
      "Price               0\n",
      "Customer ID    243007\n",
      "Country             0\n",
      "dtype: int64\n",
      "\n",
      "Duplicate values on dataset:\n",
      " 34335\n"
     ]
    }
   ],
   "source": [
    "# See the dataset information\n",
    "print(sales.info())\n",
    "print()\n",
    "print(\"Missing values on dataset:\\n\", sales.isna().sum())\n",
    "print()\n",
    "print(\"Duplicate values on dataset:\\n\", sales.duplicated().sum())"
   ]
  },
  {
   "cell_type": "markdown",
   "id": "bfc6ff81",
   "metadata": {},
   "source": [
    "The dataset contain 8 column and 1.067.371 rows. <br>\n",
    "There are 243.007 missing values of Customer ID and 4.382 missing values of product Description. <br>\n",
    "There are 34.335 duplicate records in the dataset. <br>\n",
    "The column 'Customer ID' has the wrong data type."
   ]
  },
  {
   "cell_type": "markdown",
   "id": "e7a30dea",
   "metadata": {},
   "source": [
    "#### Data Cleaning"
   ]
  },
  {
   "cell_type": "code",
   "execution_count": 4,
   "id": "f6a01380",
   "metadata": {},
   "outputs": [
    {
     "data": {
      "application/vnd.microsoft.datawrangler.viewer.v0+json": {
       "columns": [
        {
         "name": "index",
         "rawType": "object",
         "type": "string"
        },
        {
         "name": "0",
         "rawType": "int64",
         "type": "integer"
        }
       ],
       "ref": "2c34aa44-53be-4615-a56e-d8e26de970fb",
       "rows": [
        [
         "Invoice",
         "0"
        ],
        [
         "StockCode",
         "0"
        ],
        [
         "Description",
         "0"
        ],
        [
         "Quantity",
         "0"
        ],
        [
         "InvoiceDate",
         "0"
        ],
        [
         "Price",
         "0"
        ],
        [
         "Customer ID",
         "0"
        ],
        [
         "Country",
         "0"
        ]
       ],
       "shape": {
        "columns": 1,
        "rows": 8
       }
      },
      "text/plain": [
       "Invoice        0\n",
       "StockCode      0\n",
       "Description    0\n",
       "Quantity       0\n",
       "InvoiceDate    0\n",
       "Price          0\n",
       "Customer ID    0\n",
       "Country        0\n",
       "dtype: int64"
      ]
     },
     "execution_count": 4,
     "metadata": {},
     "output_type": "execute_result"
    }
   ],
   "source": [
    "# Drop missing values\n",
    "sales = sales.dropna()\n",
    "sales.isna().sum()"
   ]
  },
  {
   "cell_type": "code",
   "execution_count": 5,
   "id": "7ce54021",
   "metadata": {},
   "outputs": [
    {
     "data": {
      "text/plain": [
       "np.int64(0)"
      ]
     },
     "execution_count": 5,
     "metadata": {},
     "output_type": "execute_result"
    }
   ],
   "source": [
    "# Drop duplicate\n",
    "sales = sales.drop_duplicates()\n",
    "sales.duplicated().sum()"
   ]
  },
  {
   "cell_type": "code",
   "execution_count": 6,
   "id": "8b123ce5",
   "metadata": {},
   "outputs": [
    {
     "name": "stdout",
     "output_type": "stream",
     "text": [
      "<class 'pandas.core.frame.DataFrame'>\n",
      "Index: 797885 entries, 0 to 1067370\n",
      "Data columns (total 8 columns):\n",
      " #   Column       Non-Null Count   Dtype        \n",
      "---  ------       --------------   -----        \n",
      " 0   Invoice      797885 non-null  object       \n",
      " 1   StockCode    797885 non-null  object       \n",
      " 2   Description  797885 non-null  object       \n",
      " 3   Quantity     797885 non-null  int64        \n",
      " 4   InvoiceDate  797885 non-null  datetime64[s]\n",
      " 5   Price        797885 non-null  float64      \n",
      " 6   Customer ID  797885 non-null  object       \n",
      " 7   Country      797885 non-null  object       \n",
      "dtypes: datetime64[s](1), float64(1), int64(1), object(5)\n",
      "memory usage: 54.8+ MB\n"
     ]
    }
   ],
   "source": [
    "# Convert columns data types into the right one\n",
    "sales['Customer ID'] = sales['Customer ID'].astype('object')\n",
    "sales.info()"
   ]
  },
  {
   "cell_type": "code",
   "execution_count": 7,
   "id": "75bf6f5c",
   "metadata": {},
   "outputs": [
    {
     "data": {
      "application/vnd.microsoft.datawrangler.viewer.v0+json": {
       "columns": [
        {
         "name": "index",
         "rawType": "int64",
         "type": "integer"
        },
        {
         "name": "Invoice",
         "rawType": "object",
         "type": "string"
        },
        {
         "name": "StockCode",
         "rawType": "object",
         "type": "string"
        },
        {
         "name": "Description",
         "rawType": "object",
         "type": "string"
        },
        {
         "name": "Quantity",
         "rawType": "int64",
         "type": "integer"
        },
        {
         "name": "InvoiceDate",
         "rawType": "datetime64[s]",
         "type": "unknown"
        },
        {
         "name": "Price",
         "rawType": "float64",
         "type": "float"
        },
        {
         "name": "Customer ID",
         "rawType": "object",
         "type": "unknown"
        },
        {
         "name": "Country",
         "rawType": "object",
         "type": "string"
        },
        {
         "name": "Total Sales",
         "rawType": "float64",
         "type": "float"
        }
       ],
       "ref": "61520025-0fe9-49ba-875b-625ff04346d3",
       "rows": [
        [
         "0",
         "489434",
         "85048",
         "15CM CHRISTMAS GLASS BALL 20 LIGHTS",
         "12",
         "2009-12-01 07:45:00",
         "6.95",
         "13085.0",
         "United Kingdom",
         "83.4"
        ],
        [
         "1",
         "489434",
         "79323P",
         "PINK CHERRY LIGHTS",
         "12",
         "2009-12-01 07:45:00",
         "6.75",
         "13085.0",
         "United Kingdom",
         "81.0"
        ],
        [
         "2",
         "489434",
         "79323W",
         " WHITE CHERRY LIGHTS",
         "12",
         "2009-12-01 07:45:00",
         "6.75",
         "13085.0",
         "United Kingdom",
         "81.0"
        ],
        [
         "3",
         "489434",
         "22041",
         "RECORD FRAME 7\" SINGLE SIZE ",
         "48",
         "2009-12-01 07:45:00",
         "2.1",
         "13085.0",
         "United Kingdom",
         "100.8"
        ],
        [
         "4",
         "489434",
         "21232",
         "STRAWBERRY CERAMIC TRINKET BOX",
         "24",
         "2009-12-01 07:45:00",
         "1.25",
         "13085.0",
         "United Kingdom",
         "30.0"
        ]
       ],
       "shape": {
        "columns": 9,
        "rows": 5
       }
      },
      "text/html": [
       "<div>\n",
       "<style scoped>\n",
       "    .dataframe tbody tr th:only-of-type {\n",
       "        vertical-align: middle;\n",
       "    }\n",
       "\n",
       "    .dataframe tbody tr th {\n",
       "        vertical-align: top;\n",
       "    }\n",
       "\n",
       "    .dataframe thead th {\n",
       "        text-align: right;\n",
       "    }\n",
       "</style>\n",
       "<table border=\"1\" class=\"dataframe\">\n",
       "  <thead>\n",
       "    <tr style=\"text-align: right;\">\n",
       "      <th></th>\n",
       "      <th>Invoice</th>\n",
       "      <th>StockCode</th>\n",
       "      <th>Description</th>\n",
       "      <th>Quantity</th>\n",
       "      <th>InvoiceDate</th>\n",
       "      <th>Price</th>\n",
       "      <th>Customer ID</th>\n",
       "      <th>Country</th>\n",
       "      <th>Total Sales</th>\n",
       "    </tr>\n",
       "  </thead>\n",
       "  <tbody>\n",
       "    <tr>\n",
       "      <th>0</th>\n",
       "      <td>489434</td>\n",
       "      <td>85048</td>\n",
       "      <td>15CM CHRISTMAS GLASS BALL 20 LIGHTS</td>\n",
       "      <td>12</td>\n",
       "      <td>2009-12-01 07:45:00</td>\n",
       "      <td>6.95</td>\n",
       "      <td>13085.0</td>\n",
       "      <td>United Kingdom</td>\n",
       "      <td>83.4</td>\n",
       "    </tr>\n",
       "    <tr>\n",
       "      <th>1</th>\n",
       "      <td>489434</td>\n",
       "      <td>79323P</td>\n",
       "      <td>PINK CHERRY LIGHTS</td>\n",
       "      <td>12</td>\n",
       "      <td>2009-12-01 07:45:00</td>\n",
       "      <td>6.75</td>\n",
       "      <td>13085.0</td>\n",
       "      <td>United Kingdom</td>\n",
       "      <td>81.0</td>\n",
       "    </tr>\n",
       "    <tr>\n",
       "      <th>2</th>\n",
       "      <td>489434</td>\n",
       "      <td>79323W</td>\n",
       "      <td>WHITE CHERRY LIGHTS</td>\n",
       "      <td>12</td>\n",
       "      <td>2009-12-01 07:45:00</td>\n",
       "      <td>6.75</td>\n",
       "      <td>13085.0</td>\n",
       "      <td>United Kingdom</td>\n",
       "      <td>81.0</td>\n",
       "    </tr>\n",
       "    <tr>\n",
       "      <th>3</th>\n",
       "      <td>489434</td>\n",
       "      <td>22041</td>\n",
       "      <td>RECORD FRAME 7\" SINGLE SIZE</td>\n",
       "      <td>48</td>\n",
       "      <td>2009-12-01 07:45:00</td>\n",
       "      <td>2.10</td>\n",
       "      <td>13085.0</td>\n",
       "      <td>United Kingdom</td>\n",
       "      <td>100.8</td>\n",
       "    </tr>\n",
       "    <tr>\n",
       "      <th>4</th>\n",
       "      <td>489434</td>\n",
       "      <td>21232</td>\n",
       "      <td>STRAWBERRY CERAMIC TRINKET BOX</td>\n",
       "      <td>24</td>\n",
       "      <td>2009-12-01 07:45:00</td>\n",
       "      <td>1.25</td>\n",
       "      <td>13085.0</td>\n",
       "      <td>United Kingdom</td>\n",
       "      <td>30.0</td>\n",
       "    </tr>\n",
       "  </tbody>\n",
       "</table>\n",
       "</div>"
      ],
      "text/plain": [
       "  Invoice StockCode                          Description  Quantity  \\\n",
       "0  489434     85048  15CM CHRISTMAS GLASS BALL 20 LIGHTS        12   \n",
       "1  489434    79323P                   PINK CHERRY LIGHTS        12   \n",
       "2  489434    79323W                  WHITE CHERRY LIGHTS        12   \n",
       "3  489434     22041         RECORD FRAME 7\" SINGLE SIZE         48   \n",
       "4  489434     21232       STRAWBERRY CERAMIC TRINKET BOX        24   \n",
       "\n",
       "          InvoiceDate  Price Customer ID         Country  Total Sales  \n",
       "0 2009-12-01 07:45:00   6.95     13085.0  United Kingdom         83.4  \n",
       "1 2009-12-01 07:45:00   6.75     13085.0  United Kingdom         81.0  \n",
       "2 2009-12-01 07:45:00   6.75     13085.0  United Kingdom         81.0  \n",
       "3 2009-12-01 07:45:00   2.10     13085.0  United Kingdom        100.8  \n",
       "4 2009-12-01 07:45:00   1.25     13085.0  United Kingdom         30.0  "
      ]
     },
     "execution_count": 7,
     "metadata": {},
     "output_type": "execute_result"
    }
   ],
   "source": [
    "# Create new column to count the total price\n",
    "sales['Total Sales'] = np.round((sales['Price'] * sales['Quantity']), 2)\n",
    "sales.head()"
   ]
  },
  {
   "cell_type": "code",
   "execution_count": 8,
   "id": "4e7aa9cd",
   "metadata": {},
   "outputs": [
    {
     "data": {
      "application/vnd.microsoft.datawrangler.viewer.v0+json": {
       "columns": [
        {
         "name": "index",
         "rawType": "int64",
         "type": "integer"
        },
        {
         "name": "Invoice",
         "rawType": "object",
         "type": "string"
        },
        {
         "name": "StockCode",
         "rawType": "object",
         "type": "string"
        },
        {
         "name": "Description",
         "rawType": "object",
         "type": "string"
        },
        {
         "name": "Quantity",
         "rawType": "int64",
         "type": "integer"
        },
        {
         "name": "InvoiceDate",
         "rawType": "datetime64[s]",
         "type": "unknown"
        },
        {
         "name": "Price",
         "rawType": "float64",
         "type": "float"
        },
        {
         "name": "Customer ID",
         "rawType": "object",
         "type": "unknown"
        },
        {
         "name": "Country",
         "rawType": "object",
         "type": "string"
        },
        {
         "name": "Total Sales",
         "rawType": "float64",
         "type": "float"
        },
        {
         "name": "Hour",
         "rawType": "int32",
         "type": "integer"
        },
        {
         "name": "Day",
         "rawType": "int32",
         "type": "integer"
        },
        {
         "name": "Month",
         "rawType": "int32",
         "type": "integer"
        },
        {
         "name": "Year",
         "rawType": "int32",
         "type": "integer"
        }
       ],
       "ref": "b239e5db-fc35-4e4c-a6ad-50f339d03a61",
       "rows": [
        [
         "0",
         "489434",
         "85048",
         "15CM CHRISTMAS GLASS BALL 20 LIGHTS",
         "12",
         "2009-12-01 07:45:00",
         "6.95",
         "13085.0",
         "United Kingdom",
         "83.4",
         "7",
         "1",
         "12",
         "2009"
        ],
        [
         "1",
         "489434",
         "79323P",
         "PINK CHERRY LIGHTS",
         "12",
         "2009-12-01 07:45:00",
         "6.75",
         "13085.0",
         "United Kingdom",
         "81.0",
         "7",
         "1",
         "12",
         "2009"
        ],
        [
         "2",
         "489434",
         "79323W",
         " WHITE CHERRY LIGHTS",
         "12",
         "2009-12-01 07:45:00",
         "6.75",
         "13085.0",
         "United Kingdom",
         "81.0",
         "7",
         "1",
         "12",
         "2009"
        ],
        [
         "3",
         "489434",
         "22041",
         "RECORD FRAME 7\" SINGLE SIZE ",
         "48",
         "2009-12-01 07:45:00",
         "2.1",
         "13085.0",
         "United Kingdom",
         "100.8",
         "7",
         "1",
         "12",
         "2009"
        ],
        [
         "4",
         "489434",
         "21232",
         "STRAWBERRY CERAMIC TRINKET BOX",
         "24",
         "2009-12-01 07:45:00",
         "1.25",
         "13085.0",
         "United Kingdom",
         "30.0",
         "7",
         "1",
         "12",
         "2009"
        ]
       ],
       "shape": {
        "columns": 13,
        "rows": 5
       }
      },
      "text/html": [
       "<div>\n",
       "<style scoped>\n",
       "    .dataframe tbody tr th:only-of-type {\n",
       "        vertical-align: middle;\n",
       "    }\n",
       "\n",
       "    .dataframe tbody tr th {\n",
       "        vertical-align: top;\n",
       "    }\n",
       "\n",
       "    .dataframe thead th {\n",
       "        text-align: right;\n",
       "    }\n",
       "</style>\n",
       "<table border=\"1\" class=\"dataframe\">\n",
       "  <thead>\n",
       "    <tr style=\"text-align: right;\">\n",
       "      <th></th>\n",
       "      <th>Invoice</th>\n",
       "      <th>StockCode</th>\n",
       "      <th>Description</th>\n",
       "      <th>Quantity</th>\n",
       "      <th>InvoiceDate</th>\n",
       "      <th>Price</th>\n",
       "      <th>Customer ID</th>\n",
       "      <th>Country</th>\n",
       "      <th>Total Sales</th>\n",
       "      <th>Hour</th>\n",
       "      <th>Day</th>\n",
       "      <th>Month</th>\n",
       "      <th>Year</th>\n",
       "    </tr>\n",
       "  </thead>\n",
       "  <tbody>\n",
       "    <tr>\n",
       "      <th>0</th>\n",
       "      <td>489434</td>\n",
       "      <td>85048</td>\n",
       "      <td>15CM CHRISTMAS GLASS BALL 20 LIGHTS</td>\n",
       "      <td>12</td>\n",
       "      <td>2009-12-01 07:45:00</td>\n",
       "      <td>6.95</td>\n",
       "      <td>13085.0</td>\n",
       "      <td>United Kingdom</td>\n",
       "      <td>83.4</td>\n",
       "      <td>7</td>\n",
       "      <td>1</td>\n",
       "      <td>12</td>\n",
       "      <td>2009</td>\n",
       "    </tr>\n",
       "    <tr>\n",
       "      <th>1</th>\n",
       "      <td>489434</td>\n",
       "      <td>79323P</td>\n",
       "      <td>PINK CHERRY LIGHTS</td>\n",
       "      <td>12</td>\n",
       "      <td>2009-12-01 07:45:00</td>\n",
       "      <td>6.75</td>\n",
       "      <td>13085.0</td>\n",
       "      <td>United Kingdom</td>\n",
       "      <td>81.0</td>\n",
       "      <td>7</td>\n",
       "      <td>1</td>\n",
       "      <td>12</td>\n",
       "      <td>2009</td>\n",
       "    </tr>\n",
       "    <tr>\n",
       "      <th>2</th>\n",
       "      <td>489434</td>\n",
       "      <td>79323W</td>\n",
       "      <td>WHITE CHERRY LIGHTS</td>\n",
       "      <td>12</td>\n",
       "      <td>2009-12-01 07:45:00</td>\n",
       "      <td>6.75</td>\n",
       "      <td>13085.0</td>\n",
       "      <td>United Kingdom</td>\n",
       "      <td>81.0</td>\n",
       "      <td>7</td>\n",
       "      <td>1</td>\n",
       "      <td>12</td>\n",
       "      <td>2009</td>\n",
       "    </tr>\n",
       "    <tr>\n",
       "      <th>3</th>\n",
       "      <td>489434</td>\n",
       "      <td>22041</td>\n",
       "      <td>RECORD FRAME 7\" SINGLE SIZE</td>\n",
       "      <td>48</td>\n",
       "      <td>2009-12-01 07:45:00</td>\n",
       "      <td>2.10</td>\n",
       "      <td>13085.0</td>\n",
       "      <td>United Kingdom</td>\n",
       "      <td>100.8</td>\n",
       "      <td>7</td>\n",
       "      <td>1</td>\n",
       "      <td>12</td>\n",
       "      <td>2009</td>\n",
       "    </tr>\n",
       "    <tr>\n",
       "      <th>4</th>\n",
       "      <td>489434</td>\n",
       "      <td>21232</td>\n",
       "      <td>STRAWBERRY CERAMIC TRINKET BOX</td>\n",
       "      <td>24</td>\n",
       "      <td>2009-12-01 07:45:00</td>\n",
       "      <td>1.25</td>\n",
       "      <td>13085.0</td>\n",
       "      <td>United Kingdom</td>\n",
       "      <td>30.0</td>\n",
       "      <td>7</td>\n",
       "      <td>1</td>\n",
       "      <td>12</td>\n",
       "      <td>2009</td>\n",
       "    </tr>\n",
       "  </tbody>\n",
       "</table>\n",
       "</div>"
      ],
      "text/plain": [
       "  Invoice StockCode                          Description  Quantity  \\\n",
       "0  489434     85048  15CM CHRISTMAS GLASS BALL 20 LIGHTS        12   \n",
       "1  489434    79323P                   PINK CHERRY LIGHTS        12   \n",
       "2  489434    79323W                  WHITE CHERRY LIGHTS        12   \n",
       "3  489434     22041         RECORD FRAME 7\" SINGLE SIZE         48   \n",
       "4  489434     21232       STRAWBERRY CERAMIC TRINKET BOX        24   \n",
       "\n",
       "          InvoiceDate  Price Customer ID         Country  Total Sales  Hour  \\\n",
       "0 2009-12-01 07:45:00   6.95     13085.0  United Kingdom         83.4     7   \n",
       "1 2009-12-01 07:45:00   6.75     13085.0  United Kingdom         81.0     7   \n",
       "2 2009-12-01 07:45:00   6.75     13085.0  United Kingdom         81.0     7   \n",
       "3 2009-12-01 07:45:00   2.10     13085.0  United Kingdom        100.8     7   \n",
       "4 2009-12-01 07:45:00   1.25     13085.0  United Kingdom         30.0     7   \n",
       "\n",
       "   Day  Month  Year  \n",
       "0    1     12  2009  \n",
       "1    1     12  2009  \n",
       "2    1     12  2009  \n",
       "3    1     12  2009  \n",
       "4    1     12  2009  "
      ]
     },
     "execution_count": 8,
     "metadata": {},
     "output_type": "execute_result"
    }
   ],
   "source": [
    "# Extract Hour from invoice date\n",
    "sales['Hour'] = sales['InvoiceDate'].dt.hour\n",
    "\n",
    "# Extract Day from invoice date\n",
    "sales['Day'] = sales['InvoiceDate'].dt.day\n",
    "\n",
    "# Extract Month from invoice date\n",
    "sales['Month'] = sales['InvoiceDate'].dt.month\n",
    "\n",
    "# Extract year from invoice date\n",
    "sales['Year'] = sales['InvoiceDate'].dt.year\n",
    "\n",
    "# Check the dataset\n",
    "sales.head()"
   ]
  },
  {
   "cell_type": "code",
   "execution_count": 9,
   "id": "edc73b5b",
   "metadata": {},
   "outputs": [
    {
     "name": "stdout",
     "output_type": "stream",
     "text": [
      "<class 'pandas.core.frame.DataFrame'>\n",
      "Index: 797885 entries, 0 to 1067370\n",
      "Data columns (total 13 columns):\n",
      " #   Column       Non-Null Count   Dtype        \n",
      "---  ------       --------------   -----        \n",
      " 0   Invoice      797885 non-null  object       \n",
      " 1   StockCode    797885 non-null  object       \n",
      " 2   Description  797885 non-null  object       \n",
      " 3   Quantity     797885 non-null  int64        \n",
      " 4   InvoiceDate  797885 non-null  datetime64[s]\n",
      " 5   Price        797885 non-null  float64      \n",
      " 6   Customer ID  797885 non-null  object       \n",
      " 7   Country      797885 non-null  object       \n",
      " 8   Total Sales  797885 non-null  float64      \n",
      " 9   Hour         797885 non-null  int32        \n",
      " 10  Day          797885 non-null  int32        \n",
      " 11  Month        797885 non-null  int32        \n",
      " 12  Year         797885 non-null  int32        \n",
      "dtypes: datetime64[s](1), float64(2), int32(4), int64(1), object(5)\n",
      "memory usage: 73.0+ MB\n"
     ]
    }
   ],
   "source": [
    "sales.info()"
   ]
  },
  {
   "cell_type": "markdown",
   "id": "78fbc2d1",
   "metadata": {},
   "source": [
    "#### Exploratory Data Analysis"
   ]
  },
  {
   "cell_type": "code",
   "execution_count": 10,
   "id": "1d960f2a",
   "metadata": {},
   "outputs": [
    {
     "data": {
      "application/vnd.microsoft.datawrangler.viewer.v0+json": {
       "columns": [
        {
         "name": "index",
         "rawType": "int64",
         "type": "integer"
        },
        {
         "name": "Year",
         "rawType": "int32",
         "type": "integer"
        },
        {
         "name": "Month",
         "rawType": "int32",
         "type": "integer"
        },
        {
         "name": "Total Sales",
         "rawType": "float64",
         "type": "float"
        },
        {
         "name": "Period",
         "rawType": "datetime64[ns]",
         "type": "datetime"
        }
       ],
       "ref": "230bacb8-4566-4d86-9f0d-029803251325",
       "rows": [
        [
         "0",
         "2009",
         "12",
         "660125.1",
         "2009-12-01 00:00:00"
        ],
        [
         "1",
         "2010",
         "1",
         "530436.51",
         "2010-01-01 00:00:00"
        ],
        [
         "2",
         "2010",
         "2",
         "487596.42",
         "2010-02-01 00:00:00"
        ],
        [
         "3",
         "2010",
         "3",
         "633419.31",
         "2010-03-01 00:00:00"
        ],
        [
         "4",
         "2010",
         "4",
         "558007.83",
         "2010-04-01 00:00:00"
        ]
       ],
       "shape": {
        "columns": 4,
        "rows": 5
       }
      },
      "text/html": [
       "<div>\n",
       "<style scoped>\n",
       "    .dataframe tbody tr th:only-of-type {\n",
       "        vertical-align: middle;\n",
       "    }\n",
       "\n",
       "    .dataframe tbody tr th {\n",
       "        vertical-align: top;\n",
       "    }\n",
       "\n",
       "    .dataframe thead th {\n",
       "        text-align: right;\n",
       "    }\n",
       "</style>\n",
       "<table border=\"1\" class=\"dataframe\">\n",
       "  <thead>\n",
       "    <tr style=\"text-align: right;\">\n",
       "      <th></th>\n",
       "      <th>Year</th>\n",
       "      <th>Month</th>\n",
       "      <th>Total Sales</th>\n",
       "      <th>Period</th>\n",
       "    </tr>\n",
       "  </thead>\n",
       "  <tbody>\n",
       "    <tr>\n",
       "      <th>0</th>\n",
       "      <td>2009</td>\n",
       "      <td>12</td>\n",
       "      <td>660125.10</td>\n",
       "      <td>2009-12-01</td>\n",
       "    </tr>\n",
       "    <tr>\n",
       "      <th>1</th>\n",
       "      <td>2010</td>\n",
       "      <td>1</td>\n",
       "      <td>530436.51</td>\n",
       "      <td>2010-01-01</td>\n",
       "    </tr>\n",
       "    <tr>\n",
       "      <th>2</th>\n",
       "      <td>2010</td>\n",
       "      <td>2</td>\n",
       "      <td>487596.42</td>\n",
       "      <td>2010-02-01</td>\n",
       "    </tr>\n",
       "    <tr>\n",
       "      <th>3</th>\n",
       "      <td>2010</td>\n",
       "      <td>3</td>\n",
       "      <td>633419.31</td>\n",
       "      <td>2010-03-01</td>\n",
       "    </tr>\n",
       "    <tr>\n",
       "      <th>4</th>\n",
       "      <td>2010</td>\n",
       "      <td>4</td>\n",
       "      <td>558007.83</td>\n",
       "      <td>2010-04-01</td>\n",
       "    </tr>\n",
       "  </tbody>\n",
       "</table>\n",
       "</div>"
      ],
      "text/plain": [
       "   Year  Month  Total Sales     Period\n",
       "0  2009     12    660125.10 2009-12-01\n",
       "1  2010      1    530436.51 2010-01-01\n",
       "2  2010      2    487596.42 2010-02-01\n",
       "3  2010      3    633419.31 2010-03-01\n",
       "4  2010      4    558007.83 2010-04-01"
      ]
     },
     "execution_count": 10,
     "metadata": {},
     "output_type": "execute_result"
    }
   ],
   "source": [
    "# Sales trend\n",
    "sales_trend = sales.groupby(['Year', 'Month'])['Total Sales'].sum().reset_index()\n",
    "\n",
    "# Combine Year and Month into a single datetime column\n",
    "sales_trend['Period'] = pd.to_datetime(sales_trend[['Year', 'Month']].assign(DAY=1))\n",
    "\n",
    "sales_trend.head()"
   ]
  },
  {
   "cell_type": "code",
   "execution_count": 11,
   "id": "0922355c",
   "metadata": {},
   "outputs": [
    {
     "data": {
      "image/png": "[encoded data removed]",
      "text/plain": [
       "<Figure size 1200x600 with 1 Axes>"
      ]
     },
     "metadata": {},
     "output_type": "display_data"
    }
   ],
   "source": [
    "plt.figure(figsize=(12, 6))\n",
    "sns.lineplot(data=sales_trend, x='Period', y='Total Sales', marker='o')\n",
    "plt.title('Sales Trend Over Time')\n",
    "plt.xlabel('Period')\n",
    "plt.ylabel('Total Sales')\n",
    "plt.grid(True)\n",
    "plt.xticks(rotation=45)\n",
    "plt.tight_layout()\n",
    "plt.show()"
   ]
  },
  {
   "cell_type": "code",
   "execution_count": 12,
   "id": "feff0ea6",
   "metadata": {},
   "outputs": [],
   "source": [
    "# Top Products\n",
    "top_products = sales.groupby(['StockCode', 'Description'])[['Quantity', 'Total Sales']].sum().reset_index()\n",
    "\n",
    "# Top products by Total Sales\n",
    "top_product_sales = top_products.sort_values(by='Total Sales', ascending=False)\n",
    "# Get top 10\n",
    "top_10_sales = top_product_sales.head(10)\n",
    "\n",
    "# Top products by Quantity sold\n",
    "top_product_qty = top_products.sort_values(by='Quantity', ascending=False)\n",
    "# Get top 10\n",
    "top_10_qty = top_product_qty.head(10)"
   ]
  },
  {
   "cell_type": "code",
   "execution_count": 23,
   "id": "13a0f041",
   "metadata": {},
   "outputs": [
    {
     "name": "stderr",
     "output_type": "stream",
     "text": [
      "C:\\Users\\dkpc2\\AppData\\Local\\Temp\\ipykernel_14488\\3690475079.py:3: FutureWarning: \n",
      "\n",
      "Passing `palette` without assigning `hue` is deprecated and will be removed in v0.14.0. Assign the `y` variable to `hue` and set `legend=False` for the same effect.\n",
      "\n",
      "  ax = sns.barplot(data=top_10_sales, y='Description', x='Total Sales', palette='Blues_d')\n"
     ]
    },
    {
     "data": {
      "image/png": "[encoded data removed]",
      "text/plain": [
       "<Figure size 1600x600 with 1 Axes>"
      ]
     },
     "metadata": {},
     "output_type": "display_data"
    }
   ],
   "source": [
    "# Top 10 Products by Sales\n",
    "plt.figure(figsize=(16, 6))\n",
    "ax = sns.barplot(data=top_10_sales, y='Description', x='Total Sales', palette='Blues_d')\n",
    "\n",
    "# Add data labels\n",
    "for i, value in enumerate(top_10_sales['Total Sales']):\n",
    "    plt.text(value, i, f'{value:,.0f}', va='center')  # format with comma, no decimal\n",
    "\n",
    "plt.title(\"Top 10 Products by Sales\")\n",
    "plt.xlabel(\"Total Sales\")\n",
    "plt.ylabel(\"Product\")\n",
    "plt.tight_layout()\n",
    "plt.show()\n"
   ]
  },
  {
   "cell_type": "code",
   "execution_count": 25,
   "id": "5a05887e",
   "metadata": {},
   "outputs": [
    {
     "name": "stderr",
     "output_type": "stream",
     "text": [
      "C:\\Users\\dkpc2\\AppData\\Local\\Temp\\ipykernel_14488\\98437055.py:3: FutureWarning: \n",
      "\n",
      "Passing `palette` without assigning `hue` is deprecated and will be removed in v0.14.0. Assign the `y` variable to `hue` and set `legend=False` for the same effect.\n",
      "\n",
      "  ax = sns.barplot(data=top_10_qty, y='Description', x='Quantity', palette='Blues_d')\n"
     ]
    },
    {
     "data": {
      "image/png": "[encoded data removed]",
      "text/plain": [
       "<Figure size 1600x600 with 1 Axes>"
      ]
     },
     "metadata": {},
     "output_type": "display_data"
    }
   ],
   "source": [
    "# Top 10 Products by Sales\n",
    "plt.figure(figsize=(16, 6))\n",
    "ax = sns.barplot(data=top_10_qty, y='Description', x='Quantity', palette='Blues_d')\n",
    "\n",
    "# Add data labels\n",
    "for i, value in enumerate(top_10_qty['Quantity']):\n",
    "    plt.text(value, i, f'{value:,.0f}', va='center')  # format with comma, no decimal\n",
    "\n",
    "plt.title(\"Top 10 Products by Quantity Sold\")\n",
    "plt.xlabel(\"Quantity\")\n",
    "plt.ylabel(\"Product\")\n",
    "plt.tight_layout()\n",
    "plt.show()\n"
   ]
  },
  {
   "cell_type": "code",
   "execution_count": 32,
   "id": "2fdc1bef",
   "metadata": {},
   "outputs": [],
   "source": [
    "# Top Country Contributed to sales\n",
    "top_country = sales.groupby(['Country'])['Total Sales'].sum().reset_index()\n",
    "top_country = top_country.sort_values(by='Total Sales', ascending=False)\n",
    "top_10_country = top_country.head(10)"
   ]
  },
  {
   "cell_type": "code",
   "execution_count": null,
   "id": "abd3f9ce",
   "metadata": {},
   "outputs": [
    {
     "name": "stderr",
     "output_type": "stream",
     "text": [
      "C:\\Users\\dkpc2\\AppData\\Local\\Temp\\ipykernel_14488\\1784831295.py:3: FutureWarning: \n",
      "\n",
      "Passing `palette` without assigning `hue` is deprecated and will be removed in v0.14.0. Assign the `y` variable to `hue` and set `legend=False` for the same effect.\n",
      "\n",
      "  ax = sns.barplot(data=top_10_country, y='Country', x='Total Sales', palette='viridis')\n"
     ]
    },
    {
     "data": {
      "image/png": "[encoded data removed]",
      "text/plain": [
       "<Figure size 1600x600 with 1 Axes>"
      ]
     },
     "metadata": {},
     "output_type": "display_data"
    }
   ],
   "source": [
    "# Top Country Contributed to sales\n",
    "plt.figure(figsize=(16, 6))\n",
    "ax = sns.barplot(data=top_10_country, y='Country', x='Total Sales', palette='viridis')\n",
    "\n",
    "# Add data labels\n",
    "for i, value in enumerate(top_10_country['Total Sales']):\n",
    "    plt.text(value, i, f'{value:,.0f}', va='center')  # format with comma, no decimal\n",
    "\n",
    "plt.title(\"Top 10 Country Contributed to Sales\")\n",
    "plt.xlabel(\"Total Sales\")\n",
    "plt.ylabel(\"Country\")\n",
    "plt.tight_layout()\n",
    "plt.show()"
   ]
  },
  {
   "cell_type": "code",
   "execution_count": null,
   "id": "7a9011df",
   "metadata": {},
   "outputs": [],
   "source": []
  }
 ],
 "metadata": {
  "kernelspec": {
   "display_name": "skripsi",
   "language": "python",
   "name": "python3"
  },
  "language_info": {
   "codemirror_mode": {
    "name": "ipython",
    "version": 3
   },
   "file_extension": ".py",
   "mimetype": "text/x-python",
   "name": "python",
   "nbconvert_exporter": "python",
   "pygments_lexer": "ipython3",
   "version": "3.13.1"
  }
 },
 "nbformat": 4,
 "nbformat_minor": 5
}
